{
  "cells": [
    {
      "cell_type": "code",
      "source": [
        "!python3 -m pip install selenium"
      ],
      "outputs": [
        {
          "output_type": "stream",
          "name": "stdout",
          "text": "Requirement already satisfied: selenium in /anaconda/envs/azureml_py38/lib/python3.10/site-packages (4.27.1)\r\nRequirement already satisfied: trio~=0.17 in /anaconda/envs/azureml_py38/lib/python3.10/site-packages (from selenium) (0.27.0)\r\nRequirement already satisfied: urllib3[socks]<3,>=1.26 in /anaconda/envs/azureml_py38/lib/python3.10/site-packages (from selenium) (1.26.19)\r\nRequirement already satisfied: trio-websocket~=0.9 in /anaconda/envs/azureml_py38/lib/python3.10/site-packages (from selenium) (0.11.1)\r\nRequirement already satisfied: certifi>=2021.10.8 in /anaconda/envs/azureml_py38/lib/python3.10/site-packages (from selenium) (2024.8.30)\r\nRequirement already satisfied: typing_extensions~=4.9 in /anaconda/envs/azureml_py38/lib/python3.10/site-packages (from selenium) (4.12.2)\r\nRequirement already satisfied: websocket-client~=1.8 in /anaconda/envs/azureml_py38/lib/python3.10/site-packages (from selenium) (1.8.0)\r\nRequirement already satisfied: sortedcontainers in /anaconda/envs/azureml_py38/lib/python3.10/site-packages (from trio~=0.17->selenium) (2.4.0)\r\nRequirement already satisfied: sniffio>=1.3.0 in /anaconda/envs/azureml_py38/lib/python3.10/site-packages (from trio~=0.17->selenium) (1.3.1)\r\nRequirement already satisfied: exceptiongroup in /anaconda/envs/azureml_py38/lib/python3.10/site-packages (from trio~=0.17->selenium) (1.2.2)\r\nRequirement already satisfied: outcome in /anaconda/envs/azureml_py38/lib/python3.10/site-packages (from trio~=0.17->selenium) (1.3.0.post0)\r\nRequirement already satisfied: attrs>=23.2.0 in /anaconda/envs/azureml_py38/lib/python3.10/site-packages (from trio~=0.17->selenium) (24.2.0)\r\nRequirement already satisfied: idna in /anaconda/envs/azureml_py38/lib/python3.10/site-packages (from trio~=0.17->selenium) (3.7)\r\nRequirement already satisfied: wsproto>=0.14 in /anaconda/envs/azureml_py38/lib/python3.10/site-packages (from trio-websocket~=0.9->selenium) (1.2.0)\r\nRequirement already satisfied: PySocks!=1.5.7,<2.0,>=1.5.6 in /anaconda/envs/azureml_py38/lib/python3.10/site-packages (from urllib3[socks]<3,>=1.26->selenium) (1.7.1)\r\nRequirement already satisfied: h11<1,>=0.9.0 in /anaconda/envs/azureml_py38/lib/python3.10/site-packages (from wsproto>=0.14->trio-websocket~=0.9->selenium) (0.14.0)\r\n"
        }
      ],
      "execution_count": 1,
      "metadata": {
        "jupyter": {
          "source_hidden": false,
          "outputs_hidden": false
        },
        "nteract": {
          "transient": {
            "deleting": false
          }
        },
        "gather": {
          "logged": 1733769773546
        }
      }
    },
    {
      "cell_type": "code",
      "source": [
        "pip -V"
      ],
      "outputs": [
        {
          "output_type": "stream",
          "name": "stdout",
          "text": "pip 24.2 from /anaconda/envs/azureml_py310_sdkv2/lib/python3.10/site-packages/pip (python 3.10)\r\nNote: you may need to restart the kernel to use updated packages.\n"
        }
      ],
      "execution_count": 2,
      "metadata": {
        "jupyter": {
          "source_hidden": false,
          "outputs_hidden": false
        },
        "nteract": {
          "transient": {
            "deleting": false
          }
        },
        "gather": {
          "logged": 1733769834744
        }
      }
    },
    {
      "cell_type": "code",
      "source": [
        "# Needed libs\n",
        "import selenium \n",
        "from selenium import webdriver\n",
        "from selenium.webdriver.common.by import By\n",
        "from selenium.webdriver.support.ui import WebDriverWait\n",
        "from selenium.webdriver.support import expected_conditions as EC"
      ],
      "outputs": [
        {
          "output_type": "error",
          "ename": "ModuleNotFoundError",
          "evalue": "No module named 'selenium'",
          "traceback": [
            "\u001b[0;31m---------------------------------------------------------------------------\u001b[0m",
            "\u001b[0;31mModuleNotFoundError\u001b[0m                       Traceback (most recent call last)",
            "Cell \u001b[0;32mIn[3], line 2\u001b[0m\n\u001b[1;32m      1\u001b[0m \u001b[38;5;66;03m# Needed libs\u001b[39;00m\n\u001b[0;32m----> 2\u001b[0m \u001b[38;5;28;01mimport\u001b[39;00m \u001b[38;5;21;01mselenium\u001b[39;00m \n\u001b[1;32m      3\u001b[0m \u001b[38;5;28;01mfrom\u001b[39;00m \u001b[38;5;21;01mselenium\u001b[39;00m \u001b[38;5;28;01mimport\u001b[39;00m webdriver\n\u001b[1;32m      4\u001b[0m \u001b[38;5;28;01mfrom\u001b[39;00m \u001b[38;5;21;01mselenium\u001b[39;00m\u001b[38;5;21;01m.\u001b[39;00m\u001b[38;5;21;01mwebdriver\u001b[39;00m\u001b[38;5;21;01m.\u001b[39;00m\u001b[38;5;21;01mcommon\u001b[39;00m\u001b[38;5;21;01m.\u001b[39;00m\u001b[38;5;21;01mby\u001b[39;00m \u001b[38;5;28;01mimport\u001b[39;00m By\n",
            "\u001b[0;31mModuleNotFoundError\u001b[0m: No module named 'selenium'"
          ]
        }
      ],
      "execution_count": 3,
      "metadata": {
        "gather": {
          "logged": 1733769836765
        }
      }
    },
    {
      "cell_type": "code",
      "source": [
        "driver = webdriver.Chrome()\n",
        "driver.get('https://www.flashscore.it/partita/fXh6kI8A/#/comparazione-quote/over-under/finale')"
      ],
      "outputs": [],
      "execution_count": null,
      "metadata": {
        "jupyter": {
          "source_hidden": false,
          "outputs_hidden": false
        },
        "nteract": {
          "transient": {
            "deleting": false
          }
        }
      }
    },
    {
      "cell_type": "code",
      "source": [
        "# We get all the bookmakers\n",
        "bookmakers = WebDriverWait(driver, 10).until(EC.presence_of_all_elements_located((By.XPATH, \"//div[@class='ui-table oddsCell__odds']\")))"
      ],
      "outputs": [],
      "execution_count": null,
      "metadata": {
        "jupyter": {
          "source_hidden": false,
          "outputs_hidden": false
        },
        "nteract": {
          "transient": {
            "deleting": false
          }
        }
      }
    },
    {
      "cell_type": "code",
      "source": [
        "# For every bookmaker...\n",
        "for i in range(1, len(bookmakers)+1):\n",
        "    # We get every row (bet356, williamhill etc)\n",
        "    rows = WebDriverWait(driver, 10).until(EC.presence_of_all_elements_located((By.XPATH, f\"((//div[@class='ui-table oddsCell__odds'])[{i}]//div[@class='ui-table__row'])\")))\n",
        "    print(f\"Results for bookmaker number: {i}\")\n",
        "    # For every row we get the title, set, over and under\n",
        "    for z in range(1, len(rows)+1):\n",
        "        title = WebDriverWait(driver, 5).until(EC.presence_of_element_located((By.XPATH, f\"((((//div[@class='ui-table oddsCell__odds'])[{i}]//div[@class='ui-table__row']))//img)[{z}]\"))).get_attribute('title')\n",
        "        set = WebDriverWait(driver, 5).until(EC.presence_of_element_located((By.XPATH, f\"((((//div[@class='ui-table oddsCell__odds'])[{i}]//div[@class='ui-table__row']))[{z}]//span)[1]\"))).text\n",
        "        over = WebDriverWait(driver, 5).until(EC.presence_of_element_located((By.XPATH, f\"((((//div[@class='ui-table oddsCell__odds'])[{i}]//div[@class='ui-table__row']))[{z}]//span)[2]\"))).text\n",
        "        under = WebDriverWait(driver, 5).until(EC.presence_of_element_located((By.XPATH, f\"((((//div[@class='ui-table oddsCell__odds'])[{i}]//div[@class='ui-table__row']))[{z}]//span)[3]\"))).text\n",
        "        # I am printing the results, but you can save then as you want\n",
        "        print(f\"{title}: [{set}, {over}, {under}]\")"
      ],
      "outputs": [],
      "execution_count": null,
      "metadata": {
        "jupyter": {
          "source_hidden": false,
          "outputs_hidden": false
        },
        "nteract": {
          "transient": {
            "deleting": false
          }
        }
      }
    }
  ],
  "metadata": {
    "kernelspec": {
      "name": "python310-sdkv2",
      "language": "python",
      "display_name": "Python 3.10 - SDK v2"
    },
    "language_info": {
      "name": "python",
      "version": "3.10.14",
      "mimetype": "text/x-python",
      "codemirror_mode": {
        "name": "ipython",
        "version": 3
      },
      "pygments_lexer": "ipython3",
      "nbconvert_exporter": "python",
      "file_extension": ".py"
    },
    "microsoft": {
      "ms_spell_check": {
        "ms_spell_check_language": "en"
      }
    },
    "kernel_info": {
      "name": "python310-sdkv2"
    },
    "nteract": {
      "version": "nteract-front-end@1.0.0"
    }
  },
  "nbformat": 4,
  "nbformat_minor": 2
}